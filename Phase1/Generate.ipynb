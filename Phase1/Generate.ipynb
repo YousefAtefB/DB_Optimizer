{
 "cells": [
  {
   "cell_type": "code",
   "execution_count": 32,
   "metadata": {},
   "outputs": [],
   "source": [
    "import random\n",
    "import string\n",
    "def generateStr(length: int=6):\n",
    "    letters = string.ascii_lowercase\n",
    "    return ''.join(random.choice(letters) for i in range(length))\n",
    "\n",
    "def generateNum(lower=0, upper=10000):\n",
    "    return random.choice(range(lower,upper+1))\n",
    "\n",
    "def generateDate():\n",
    "    return f\"{generateNum(1960,2022)}-{generateNum(1,12)}-{generateNum(1,30)}\""
   ]
  },
  {
   "cell_type": "code",
   "execution_count": 53,
   "metadata": {},
   "outputs": [],
   "source": [
    "# \"Mohamed\",\"Akram\",123,\"male\",\"1999-07-16\",\"231 New Alamin city\"\n",
    "data_count = 1000000\n",
    "names = []\n",
    "with open('english_names.txt', \"r\") as f:\n",
    "    names = f.read().split('\\n')\n",
    "\n",
    "with open('data.csv', \"w\") as f:\n",
    "    for i in range(data_count):\n",
    "        # fname = generateStr(generateNum(5, 10))\n",
    "        # lname = generateStr(generateNum(5, 10))\n",
    "        fname = names[generateNum(0, len(names) - 1)]\n",
    "        lname = names[generateNum(0, len(names) - 1)]\n",
    "        salary = generateNum(100, 100000)\n",
    "        gender = \"male\" if generateNum(1,2)==1 else \"female\"\n",
    "        date = generateDate()\n",
    "        address = str(generateNum(1, 999))+\" \"+generateStr(generateNum(10,20))\n",
    "        out = (fname, lname, salary, gender, date, address)\n",
    "        f.write(','.join(f'\"{i}\"' if type(i)==str else f\"{i}\" for i in out)+'\\n')\n",
    "        # f.write(str(out)[1:-1]+\"\\n\")\n"
   ]
  },
  {
   "cell_type": "code",
   "execution_count": null,
   "metadata": {},
   "outputs": [],
   "source": []
  }
 ],
 "metadata": {
  "kernelspec": {
   "display_name": "Python 3.9.1 64-bit",
   "language": "python",
   "name": "python3"
  },
  "language_info": {
   "codemirror_mode": {
    "name": "ipython",
    "version": 3
   },
   "file_extension": ".py",
   "mimetype": "text/x-python",
   "name": "python",
   "nbconvert_exporter": "python",
   "pygments_lexer": "ipython3",
   "version": "3.9.1"
  },
  "orig_nbformat": 4,
  "vscode": {
   "interpreter": {
    "hash": "4b7a79a04785874387104f3c6feb1de19ab04361719f0839cd06169f76085a5a"
   }
  }
 },
 "nbformat": 4,
 "nbformat_minor": 2
}
