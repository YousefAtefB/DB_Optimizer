{
 "cells": [
  {
   "cell_type": "code",
   "execution_count": 2,
   "metadata": {},
   "outputs": [],
   "source": [
    "import random\n",
    "import string\n",
    "def generateStr(length: int=6):\n",
    "    letters = string.ascii_lowercase\n",
    "    return ''.join(random.choice(letters) for i in range(length))\n",
    "\n",
    "def generateNum(lower=0, upper=10000):\n",
    "    return random.choice(range(lower,upper+1))\n",
    "\n",
    "def generateDate():\n",
    "    return f\"{generateNum(1960,2022)}-{generateNum(1,12)}-{generateNum(1,30)}\"\n",
    "\n",
    "names = []\n",
    "with open('english_names.txt', \"r\") as f:\n",
    "    names = f.read().split('\\n')\n",
    "\n",
    "relationships = ['father', 'mother', 'sister', 'brother', 'uncle', 'aunt', 'cousin']"
   ]
  },
  {
   "attachments": {},
   "cell_type": "markdown",
   "metadata": {},
   "source": [
    "# Department"
   ]
  },
  {
   "cell_type": "code",
   "execution_count": 4,
   "metadata": {},
   "outputs": [],
   "source": [
    "department_count = 1000\n",
    "\n",
    "with open('D:\\DB_fillers\\departmentEdit.csv', \"w\") as f:\n",
    "    f.write('DEP_NUMBER, DEP_NAME, LOCATION, ESSN, START_DATE\\n')\n",
    "    for i in range(department_count):\n",
    "        dep_number = i+1\n",
    "        dep_name = generateStr(generateNum(10,20))\n",
    "        location = generateStr(generateNum(10,20))\n",
    "        essn = generateNum(1, 510000)\n",
    "        date = generateDate()\n",
    "        out = (dep_number, dep_name, location, essn, date)\n",
    "        f.write(','.join(f'\"{i}\"' if type(i)==str else f\"{i}\" for i in out)+'\\n')"
   ]
  },
  {
   "attachments": {},
   "cell_type": "markdown",
   "metadata": {},
   "source": [
    "# Employee"
   ]
  },
  {
   "cell_type": "code",
   "execution_count": 21,
   "metadata": {},
   "outputs": [],
   "source": [
    "# \"Mohamed\",\"Akram\",123,\"male\",\"1999-07-16\",\"231 New Alamin city\"\n",
    "employee_count = 110000\n",
    "\n",
    "with open('D:\\DB_fillers\\employee.csv', \"w\") as f:\n",
    "    f.write('SSN, FName, LName, SALARY, GENDER, BDATE, ADDRESS, SUPERVISOR, WORKS_FOR\\n')\n",
    "    for i in range(employee_count):\n",
    "        # fname = generateStr(generateNum(5, 10))\n",
    "        # lname = generateStr(generateNum(5, 10))\n",
    "        ssn = i+1\n",
    "        fname = names[generateNum(0, len(names) - 1)]\n",
    "        lname = names[generateNum(0, len(names) - 1)]\n",
    "        salary = generateNum(100, 100000)\n",
    "        gender = \"male\" if generateNum(1,2)==1 else \"female\"\n",
    "        date = generateDate()\n",
    "        address = str(generateNum(1, 999))+\" \"+generateStr(generateNum(10,20))\n",
    "        supervisor = generateNum(1,i+1)\n",
    "        works_for = generateNum(1,department_count)\n",
    "        out = (ssn, fname, lname, salary, gender, date, address, supervisor, works_for)\n",
    "        f.write(','.join(f'\"{i}\"' if type(i)==str else f\"{i}\" for i in out)+'\\n')\n",
    "        # f.write(str(out)[1:-1]+\"\\n\")\n"
   ]
  },
  {
   "attachments": {},
   "cell_type": "markdown",
   "metadata": {},
   "source": [
    "# Project"
   ]
  },
  {
   "cell_type": "code",
   "execution_count": 23,
   "metadata": {},
   "outputs": [],
   "source": [
    "project_count = 110000\n",
    "\n",
    "with open('D:\\DB_fillers\\project.csv', \"w\") as f:\n",
    "    f.write('PROJ_NAME, PROJ_LOC, PNO, CONTROLING_DEP\\n')\n",
    "    for i in range(project_count):\n",
    "        proj_name = generateStr(generateNum(10,20))\n",
    "        proj_loc = generateStr(generateNum(10,20))\n",
    "        pno = i+1\n",
    "        controling_dep = generateNum(1,department_count)\n",
    "        out = (proj_name, proj_loc, pno, controling_dep)\n",
    "        f.write(','.join(f'\"{i}\"' if type(i)==str else f\"{i}\" for i in out)+'\\n')\n"
   ]
  },
  {
   "attachments": {},
   "cell_type": "markdown",
   "metadata": {},
   "source": [
    "# Works on"
   ]
  },
  {
   "cell_type": "code",
   "execution_count": 24,
   "metadata": {},
   "outputs": [],
   "source": [
    "works_on_count = 510000\n",
    "\n",
    "with open('D:\\DB_fillers\\works_on.csv', \"w\") as f:\n",
    "    f.write('ESSN, PROJECT_NUMBER, HOURS\\n')\n",
    "    for i in range(works_on_count):\n",
    "        essn = generateNum(1,employee_count)\n",
    "        project_number = generateNum(1,project_count)\n",
    "        hours = generateNum(1,10000)\n",
    "        out = (essn, project_number, hours)\n",
    "        f.write(','.join(f'\"{i}\"' if type(i)==str else f\"{i}\" for i in out)+'\\n')\n"
   ]
  },
  {
   "attachments": {},
   "cell_type": "markdown",
   "metadata": {},
   "source": [
    "# Dependent"
   ]
  },
  {
   "cell_type": "code",
   "execution_count": 25,
   "metadata": {},
   "outputs": [],
   "source": [
    "dependent_count = 110000\n",
    "with open('D:\\DB_fillers\\dependent.csv', \"w\") as f:\n",
    "    f.write('DEPENDENT_NAME, GENDER, BIRTHDATE, RELATIONSHIP, ESSN\\n')\n",
    "    for i in range(dependent_count):\n",
    "        dependent_name = names[generateNum(0, len(names) - 1)]\n",
    "        gender = \"male\" if generateNum(1,2)==1 else \"female\"\n",
    "        birthdate = generateDate()\n",
    "        relationship = relationships[generateNum(0, len(relationships)-1)] \n",
    "        essn = generateNum(1,employee_count)\n",
    "        out = (dependent_name, gender, birthdate, relationship, essn)\n",
    "        f.write(','.join(f'\"{i}\"' if type(i)==str else f\"{i}\" for i in out)+'\\n')\n"
   ]
  },
  {
   "attachments": {},
   "cell_type": "markdown",
   "metadata": {},
   "source": [
    "# Customer"
   ]
  },
  {
   "cell_type": "code",
   "execution_count": 26,
   "metadata": {},
   "outputs": [],
   "source": [
    "customer_count = 110000\n",
    "with open('D:\\DB_fillers\\customer.csv', \"w\") as f:\n",
    "    f.write('CUSTOMER_ID, EMAIL, CUSTOMER_NAME, PHONE_NUMBER\\n')\n",
    "    for i in range(customer_count):\n",
    "        customer_id = i+1\n",
    "        email = generateStr(generateNum(5,10))+'@gmail.com'\n",
    "        customer_name = names[generateNum(0, len(names) - 1)]\n",
    "        phone_number = str(generateNum(1000,20000000000))\n",
    "        out = (customer_id, email, customer_name, phone_number)\n",
    "        f.write(','.join(f'\"{i}\"' if type(i)==str else f\"{i}\" for i in out)+'\\n')\n"
   ]
  },
  {
   "attachments": {},
   "cell_type": "markdown",
   "metadata": {},
   "source": [
    "# Customer Project"
   ]
  },
  {
   "cell_type": "code",
   "execution_count": 28,
   "metadata": {},
   "outputs": [],
   "source": [
    "customer_project_count = 510000\n",
    "with open('D:\\DB_fillers\\customer_project.csv', \"w\") as f:\n",
    "    f.write('CUSTOMER_ID, PROJECT_NUMBER, DEADLINE\\n')\n",
    "    for i in range(customer_project_count):\n",
    "        customer_id = generateNum(1,customer_count)\n",
    "        project_number = generateNum(1,project_count)\n",
    "        deadline = generateDate()\n",
    "        out = (customer_id, project_number, deadline)\n",
    "        f.write(','.join(f'\"{i}\"' if type(i)==str else f\"{i}\" for i in out)+'\\n')\n"
   ]
  }
 ],
 "metadata": {
  "kernelspec": {
   "display_name": "Python 3",
   "language": "python",
   "name": "python3"
  },
  "language_info": {
   "codemirror_mode": {
    "name": "ipython",
    "version": 3
   },
   "file_extension": ".py",
   "mimetype": "text/x-python",
   "name": "python",
   "nbconvert_exporter": "python",
   "pygments_lexer": "ipython3",
   "version": "3.9.0 (tags/v3.9.0:9cf6752, Oct  5 2020, 15:34:40) [MSC v.1927 64 bit (AMD64)]"
  },
  "orig_nbformat": 4,
  "vscode": {
   "interpreter": {
    "hash": "194ea69fc5ce711ee36e1055a9c001897a79bd3c6ecd7d1bcdea1a7d8acb422a"
   }
  }
 },
 "nbformat": 4,
 "nbformat_minor": 2
}
